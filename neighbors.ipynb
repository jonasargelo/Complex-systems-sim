{
 "cells": [
  {
   "cell_type": "code",
   "execution_count": null,
   "metadata": {},
   "outputs": [],
   "source": [
    "import numpy as np\n",
    "from numba import njit"
   ]
  },
  {
   "cell_type": "code",
   "execution_count": null,
   "metadata": {},
   "outputs": [],
   "source": [
    "@njit\n",
    "def get_4_neighbors(i, j, L):\n",
    "    '''Finds upper, lower, left and right neighbor of a site in a L by L grid (Von Neumann neighborhood)'''\n",
    "    neighbors = []\n",
    "    # Up, down, right, left\n",
    "    directions = [(0, 1), (0, -1), (1, 0), (-1, 0)]  \n",
    "    for di, dj in directions:\n",
    "        # Apply periodic boundary conditions\n",
    "        neighbor_i = int((i + di) % L)\n",
    "        neighbor_j = int((j + dj) % L)\n",
    "        neighbors.append((neighbor_i, neighbor_j))\n",
    "    return neighbors"
   ]
  },
  {
   "cell_type": "code",
   "execution_count": null,
   "metadata": {},
   "outputs": [],
   "source": [
    "@njit\n",
    "def get_9_neighbors(i, j, L):\n",
    "    '''Finds all surrounding neighbors of a site in a L by L grid (Moore neighborhood)'''\n",
    "    neighbors = []\n",
    "\n",
    "    directions = [(-1, -1), (-1, 0), (-1, 1), (0, -1), (0, -1), (1, -1), (1, 0), (1, 1)]\n",
    "\n",
    "    for di, dj in directions:\n",
    "        # Apply periodic boundary conditions\n",
    "        neighbor_i = int((i + di) % L)\n",
    "        neighbor_j = int((j + dj) % L)\n",
    "        neighbors.append((neighbor_i, neighbor_j))\n",
    "    return neighbors\n"
   ]
  },
  {
   "cell_type": "code",
   "execution_count": null,
   "metadata": {},
   "outputs": [],
   "source": [
    "@njit\n",
    "def fattail_kernel(eta, L, R):\n",
    "    ''' Computes fat-tailed dispersal kernel\n",
    "    Parameters:\n",
    "    - eta: defines \"fatness\" of the distribution\n",
    "    - L: length scale or width of kernel\n",
    "    - R: distance between parent and offspring\n",
    "\n",
    "    Returns:\n",
    "    - K: dispersal probability density\n",
    "    '''\n",
    "\n",
    "    K = -((eta + 2) / (2 * np.pi * L**2)) * (1 + (R/L)**2 )**(eta/2)\n",
    "    \n",
    "\n",
    "    return K"
   ]
  }
 ],
 "metadata": {
  "language_info": {
   "name": "python"
  },
  "orig_nbformat": 4
 },
 "nbformat": 4,
 "nbformat_minor": 2
}
