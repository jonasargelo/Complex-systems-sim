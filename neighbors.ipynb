{
 "cells": [
  {
   "cell_type": "code",
   "execution_count": 6,
   "metadata": {},
   "outputs": [],
   "source": [
    "import numpy as np\n",
    "import math\n",
    "from numba import njit"
   ]
  },
  {
   "cell_type": "code",
   "execution_count": 7,
   "metadata": {},
   "outputs": [],
   "source": [
    "@njit\n",
    "def get_4_neighbors(i, j, L):\n",
    "    '''Finds upper, lower, left and right neighbor of a site in a L by L grid (Von Neumann neighborhood)'''\n",
    "    neighbors = []\n",
    "    # Up, down, right, left\n",
    "    directions = [(0, 1), (0, -1), (1, 0), (-1, 0)]  \n",
    "    for di, dj in directions:\n",
    "        # Apply periodic boundary conditions\n",
    "        neighbor_i = int((i + di) % L)\n",
    "        neighbor_j = int((j + dj) % L)\n",
    "        neighbors.append((neighbor_i, neighbor_j))\n",
    "    return neighbors"
   ]
  },
  {
   "cell_type": "code",
   "execution_count": 8,
   "metadata": {},
   "outputs": [],
   "source": [
    "\n"
   ]
  },
  {
   "cell_type": "code",
   "execution_count": 12,
   "metadata": {},
   "outputs": [],
   "source": []
  },
  {
   "cell_type": "code",
   "execution_count": null,
   "metadata": {},
   "outputs": [],
   "source": []
  }
 ],
 "metadata": {
  "kernelspec": {
   "display_name": "Python 3 (ipykernel)",
   "language": "python",
   "name": "python3"
  },
  "language_info": {
   "codemirror_mode": {
    "name": "ipython",
    "version": 3
   },
   "file_extension": ".py",
   "mimetype": "text/x-python",
   "name": "python",
   "nbconvert_exporter": "python",
   "pygments_lexer": "ipython3",
   "version": "3.10.6"
  }
 },
 "nbformat": 4,
 "nbformat_minor": 2
}
