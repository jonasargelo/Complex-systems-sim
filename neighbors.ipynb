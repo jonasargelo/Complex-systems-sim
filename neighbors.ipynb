{
 "cells": [
  {
   "cell_type": "code",
   "execution_count": null,
   "metadata": {},
   "outputs": [],
   "source": [
    "import numpy as np\n",
    "import math\n",
    "from numba import njit"
   ]
  },
  {
   "cell_type": "code",
   "execution_count": null,
   "metadata": {},
   "outputs": [],
   "source": [
    "@njit\n",
    "def get_4_neighbors(i, j, L):\n",
    "    '''Finds upper, lower, left and right neighbor of a site in a L by L grid (Von Neumann neighborhood)'''\n",
    "    neighbors = []\n",
    "    # Up, down, right, left\n",
    "    directions = [(0, 1), (0, -1), (1, 0), (-1, 0)]  \n",
    "    for di, dj in directions:\n",
    "        # Apply periodic boundary conditions\n",
    "        neighbor_i = int((i + di) % L)\n",
    "        neighbor_j = int((j + dj) % L)\n",
    "        neighbors.append((neighbor_i, neighbor_j))\n",
    "    return neighbors"
   ]
  },
  {
   "cell_type": "code",
   "execution_count": null,
   "metadata": {},
   "outputs": [],
   "source": [
    "@njit\n",
    "def get_9_neighbors(i, j, L):\n",
    "    '''Finds all surrounding neighbors of a site in a L by L grid (Moore neighborhood)'''\n",
    "    neighbors = []\n",
    "\n",
    "    directions = [(-1, -1), (-1, 0), (-1, 1), (0, -1), (0, -1), (1, -1), (1, 0), (1, 1)]\n",
    "\n",
    "    for di, dj in directions:\n",
    "        # Apply periodic boundary conditions\n",
    "        neighbor_i = int((i + di) % L)\n",
    "        neighbor_j = int((j + dj) % L)\n",
    "        neighbors.append((neighbor_i, neighbor_j))\n",
    "    return neighbors\n"
   ]
  },
  {
   "cell_type": "code",
   "execution_count": null,
   "metadata": {},
   "outputs": [],
   "source": [
    "@njit\n",
    "def get_neighbors_fattail(i, j, L, R, eta):\n",
    "    ''' Computes fat-tailed dispersal kernel\n",
    "    Parameters:\n",
    "    - eta: defines \"fatness\" of the distribution\n",
    "    - L: length scale or width of kernel\n",
    "    - R: distance between parent and offspring\n",
    "\n",
    "    Returns:\n",
    "    - K: dispersal probability density\n",
    "    '''\n",
    "\n",
    "    neighbors = []\n",
    "    probabilities = []\n",
    "    directions = []\n",
    "\n",
    "    for r in range(-R, R + 1):\n",
    "        for c in range(-R, R + 1):\n",
    "            \n",
    "            if r == 0 and c == 0:\n",
    "                continue\n",
    "\n",
    "            directions.append((r, c))\n",
    "\n",
    "    for di, dj in directions:\n",
    "        # Apply periodic boundary conditions\n",
    "        neighbor_i = int((i + di) % L)\n",
    "        neighbor_j = int((j + dj) % L)\n",
    "        neighbors.append((neighbor_i, neighbor_j))\n",
    "\n",
    "    dist = math.dist([i, j], [neighbor_i, neighbor_j])\n",
    "\n",
    "    K = -((eta + 2) / (2 * np.pi * L**2)) * (1 + ((dist)/L)**2 )**(eta/2)\n",
    "    probabilities.append(K)\n",
    "\n",
    "    return neighbors, probabilities"
   ]
  }
 ],
 "metadata": {
  "kernelspec": {
   "display_name": "Python 3",
   "language": "python",
   "name": "python3"
  },
  "language_info": {
   "codemirror_mode": {
    "name": "ipython",
    "version": 3
   },
   "file_extension": ".py",
   "mimetype": "text/x-python",
   "name": "python",
   "nbconvert_exporter": "python",
   "pygments_lexer": "ipython3",
   "version": "3.10.2"
  },
  "orig_nbformat": 4
 },
 "nbformat": 4,
 "nbformat_minor": 2
}
