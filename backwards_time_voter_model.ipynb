{
 "cells": [
  {
   "cell_type": "code",
   "execution_count": 1,
   "id": "6ac8434f",
   "metadata": {},
   "outputs": [],
   "source": [
    "import numpy as np\n",
    "import matplotlib.pyplot as plt\n",
    "import matplotlib as mpl\n",
    "mpl.rcParams['figure.dpi'] = 300\n",
    "mpl.rc('font', size=12)\n",
    "\n",
    "from numba import njit"
   ]
  },
  {
   "cell_type": "markdown",
   "id": "75903f8c",
   "metadata": {},
   "source": [
    "# Voter model with mutation, coalescence approach"
   ]
  },
  {
   "cell_type": "code",
   "execution_count": 43,
   "id": "8385704a",
   "metadata": {},
   "outputs": [],
   "source": [
    "@njit\n",
    "def init_grid(L):\n",
    "    '''Initialises an L by L grid with numbers drawn randomly from (0, 1)'''\n",
    "    return np.random.rand(L, L)"
   ]
  },
  {
   "cell_type": "code",
   "execution_count": 44,
   "id": "b9a24eba",
   "metadata": {},
   "outputs": [],
   "source": [
    "@njit\n",
    "def get_4_neighbors(i, j, L):\n",
    "    '''Finds upper, lower, left and right neighbor of a site in a K by K grid'''\n",
    "    neighbors = []\n",
    "    # Up, down, right, left\n",
    "    directions = [(0, 1), (0, -1), (1, 0), (-1, 0)]  \n",
    "    for di, dj in directions:\n",
    "        # Apply periodic boundary conditions\n",
    "        neighbor_i = int((i + di) % L)\n",
    "        neighbor_j = int((j + dj) % L)\n",
    "        neighbors.append((neighbor_i, neighbor_j))\n",
    "    return neighbors"
   ]
  },
  {
   "cell_type": "code",
   "execution_count": 45,
   "id": "96730f9b",
   "metadata": {},
   "outputs": [],
   "source": [
    "def sa_curve(grid):\n",
    "    height, width = grid.shape\n",
    "    \n",
    "    n_centers = 10\n",
    "    centers_x = np.random.choice(np.arange(0, width), n_centers) + width\n",
    "    centers_y = np.random.choice(np.arange(0, height), n_centers) + height\n",
    "\n",
    "    areas = []\n",
    "    species = []\n",
    "    \n",
    "    torus_grid = np.vstack((grid, grid, grid))\n",
    "    torus_grid = np.hstack((torus_grid, torus_grid, torus_grid))\n",
    "        \n",
    "    for i, (x, y) in enumerate(zip(centers_x, centers_y)):\n",
    "        cur_species = []\n",
    "        for j in range(width//2):\n",
    "            cur_species.append(len(np.unique(torus_grid[x-j:x+j+1, y-j:y+j+1])))\n",
    "            if i == 0:\n",
    "                areas.append((j+1)**2)\n",
    "        species.append(cur_species)\n",
    "    \n",
    "    return areas, species"
   ]
  },
  {
   "cell_type": "code",
   "execution_count": 46,
   "id": "7be1c017",
   "metadata": {},
   "outputs": [],
   "source": [
    "import random\n",
    "import itertools\n",
    "from tqdm import tqdm\n",
    "import time\n",
    "\n",
    "# @njit\n",
    "def voter_model_fast(L, alpha, MC_steps, rand_walkers):\n",
    "    '''Run experiment with the voter model\n",
    "    Inputs:\n",
    "    grid_0 (numpy array): Initial grid\n",
    "    alpha (float): Value of alpha parameter\n",
    "    MC_steps (int): number of monte carlo steps\n",
    "    \n",
    "    Returns:\n",
    "    cur_grid (numpy array): Grid after n_iter iterations\n",
    "    num_species (list): Contains amount of different species at each tenth iteration\n",
    "    '''\n",
    "    # Create list to store number of unique species\n",
    "    lineages = [set() for _ in range(len(rand_walkers))]\n",
    "    for i, element in enumerate(rand_walkers):\n",
    "        lineages[i].add(element)\n",
    "\n",
    "    rand_walker_pos = list(rand_walkers.copy())\n",
    "    species = []\n",
    "    \n",
    "    for i in range(MC_steps):\n",
    "        # Draw full list of random numbers to save time\n",
    "        rand_nums = np.random.uniform(size=L**2)\n",
    "        for j in tqdm(range(L**2)):\n",
    "            if len(rand_walker_pos) == 0:                \n",
    "                return lineages, species\n",
    "            \n",
    "            # Select active walker\n",
    "            cur_walker_loc = np.random.choice(len(rand_walker_pos))\n",
    "            cur_walker = rand_walker_pos[cur_walker_loc]\n",
    "            # Find current walker's place in lineages\n",
    "            cur_walker_idx = L*cur_walker[0] + cur_walker[1]\n",
    "            \n",
    "            # Select parent\n",
    "            potential_parents = get_4_neighbors(cur_walker[0], cur_walker[1], L)\n",
    "            parent_walker_loc = np.random.choice(len(potential_parents))\n",
    "            parent_walker = potential_parents[parent_walker_loc]\n",
    "            # Find parent's place in lineages\n",
    "            parent_walker_idx = L*parent_walker[0] + parent_walker[1]\n",
    "            \n",
    "            # Speciate with probability alpha\n",
    "            if rand_nums[j] < alpha:\n",
    "                species.append(lineages[cur_walker_idx])\n",
    "                # Insert pointer to correct species where the walker is in\n",
    "                for site in lineages[cur_walker_idx]:\n",
    "                    site_idx = L*site[0] + site[1]\n",
    "                    lineages[site_idx] = len(species) - 1                \n",
    "            else:\n",
    "                # Check if parent hasn't speciated yet\n",
    "                if type(lineages[parent_walker_idx]) == set:\n",
    "                    # Merge lineages if walkers are from other walks\n",
    "                    if parent_walker not in lineages[cur_walker_idx]:\n",
    "                        # Unify lineages of parent and child\n",
    "                        for site in lineages[cur_walker_idx]:\n",
    "                            site_idx = L*site[0] + site[1]\n",
    "                            lineages[site_idx] = lineages[site_idx].union(lineages[parent_walker_idx])\n",
    "                            \n",
    "                        for site in lineages[parent_walker_idx]:\n",
    "                            site_idx = L*site[0] + site[1]\n",
    "                            if type(lineages[site_idx]) == set:\n",
    "                                lineages[site_idx] = lineages[site_idx].union(lineages[cur_walker_idx])\n",
    "                                \n",
    "                    # Handle case when walker has moved back into its own lineage\n",
    "                    else:\n",
    "                        # Change position of active walker\n",
    "                        if parent_walker not in rand_walker_pos:\n",
    "                            rand_walker_pos.append(parent_walker)\n",
    "                            \n",
    "                # Let speciation occur\n",
    "                elif type(lineages[parent_walker_idx]) == int:\n",
    "                    species[lineages[parent_walker_idx]] = species[lineages[parent_walker_idx]].union(lineages[cur_walker_idx])\n",
    "                    for site in lineages[cur_walker_idx]:\n",
    "                        site_idx = L*site[0] + site[1]\n",
    "                        lineages[site_idx] = lineages[parent_walker_idx]\n",
    "            \n",
    "            # Remove current walker from list of active walkers\n",
    "            rand_walker_pos.remove(cur_walker)\n",
    "\n",
    "    return lineages, species"
   ]
  },
  {
   "cell_type": "code",
   "execution_count": null,
   "id": "eb7494aa",
   "metadata": {
    "scrolled": true
   },
   "outputs": [
    {
     "name": "stderr",
     "output_type": "stream",
     "text": [
      "100%|██████████████████████████████████| 10000/10000 [00:00<00:00, 11439.18it/s]\n",
      " 36%|████████████▊                       | 3560/10000 [00:00<00:00, 9890.27it/s]"
     ]
    }
   ],
   "source": [
    "# Define parameters as in paper\n",
    "alpha = 10e-4\n",
    "L = 100\n",
    "\n",
    "MC_steps = int(5000)\n",
    "rand_walkers = list(itertools.product(range(L), range(L)))\n",
    "\n",
    "lineages, species = voter_model_fast(L, alpha, MC_steps, rand_walkers)"
   ]
  },
  {
   "cell_type": "code",
   "execution_count": null,
   "id": "6636728c",
   "metadata": {},
   "outputs": [],
   "source": [
    "species_ids = np.random.uniform(size=len(species))\n",
    "\n",
    "grid = np.zeros((L, L))\n",
    "for i, specie in enumerate(species):\n",
    "    for coord in specie:\n",
    "        grid[coord] = species_ids[i]"
   ]
  },
  {
   "cell_type": "code",
   "execution_count": null,
   "id": "08653f41",
   "metadata": {},
   "outputs": [],
   "source": [
    "plt.imshow(grid)\n",
    "plt.show()"
   ]
  },
  {
   "cell_type": "code",
   "execution_count": null,
   "id": "855d3c17",
   "metadata": {},
   "outputs": [],
   "source": [
    "areas, species = sa_curve(grid)\n",
    "spec_std_dev = np.std(species, axis=0)\n",
    "spec_mean = np.mean(species, axis=0)\n",
    "\n",
    "poly_coeffs = np.polyfit(np.log(areas), np.log(spec_mean), 1)\n",
    "print(poly_coeffs)\n",
    "\n",
    "plt.loglog(areas, spec_mean, label='Mean of 10 centers')\n",
    "plt.loglog([areas[0], areas[-1]], \n",
    "           np.exp(poly_coeffs[1]) * np.array([areas[0], areas[-1]])**poly_coeffs[0], \n",
    "           color='grey', \n",
    "           linestyle='dashed',\n",
    "           label=f'Lin. regress, power={round(poly_coeffs[0], 2)}')\n",
    "plt.fill_between(areas, spec_mean-spec_std_dev, spec_mean+spec_std_dev, alpha=0.2, label='Std. dev')\n",
    "plt.ylabel('Log Number of Species')\n",
    "plt.xlabel('Log Area')\n",
    "plt.title(f'Species area curve for L={L}')\n",
    "plt.legend()\n",
    "plt.show()"
   ]
  },
  {
   "cell_type": "code",
   "execution_count": null,
   "id": "cb6da1dd",
   "metadata": {},
   "outputs": [],
   "source": []
  }
 ],
 "metadata": {
  "kernelspec": {
   "display_name": "Python 3 (ipykernel)",
   "language": "python",
   "name": "python3"
  },
  "language_info": {
   "codemirror_mode": {
    "name": "ipython",
    "version": 3
   },
   "file_extension": ".py",
   "mimetype": "text/x-python",
   "name": "python",
   "nbconvert_exporter": "python",
   "pygments_lexer": "ipython3",
   "version": "3.10.6"
  }
 },
 "nbformat": 4,
 "nbformat_minor": 5
}
