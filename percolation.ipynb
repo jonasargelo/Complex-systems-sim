{
 "cells": [
  {
   "attachments": {},
   "cell_type": "markdown",
   "metadata": {},
   "source": [
    "Strategy to find percolation\n"
   ]
  },
  {
   "cell_type": "code",
   "execution_count": 31,
   "metadata": {},
   "outputs": [],
   "source": [
    "# Find the set of distinct species in a given grid\n",
    "\n",
    "def count_different_species(grid : list[list[float]]) -> set:\n",
    "    \"\"\"\n",
    "    Counts the number of different species present in a grid.\n",
    "    \n",
    "    Parameters:\n",
    "    - grid (list[list[int]]): A 2D grid containing species represented by numbers.\n",
    "\n",
    "    Returns:\n",
    "    - unique_species (set): A set containing the unique species found in the grid.\n",
    "\n",
    "    Example:\n",
    "    grid = [[1, 2, 3], [2, 3, 4], [3, 4, 5]]\n",
    "    count_different_species(grid)\n",
    "    {1, 2, 3, 4, 5}\n",
    "    \"\"\"\n",
    "    \n",
    "    unique_species = set()\n",
    "\n",
    "    for row in grid:\n",
    "        for species in row:\n",
    "            unique_species.add(species)\n",
    "\n",
    "    return unique_species "
   ]
  },
  {
   "cell_type": "code",
   "execution_count": 5,
   "metadata": {},
   "outputs": [],
   "source": [
    "# Check the position of each unique species\n",
    "def check_element_positions(grid, unique_number):\n",
    "\n",
    "    # Create a matrix to represent the existence of unique numbers\n",
    "    matrix = [[False] * len(row) for row in grid]\n",
    "\n",
    "    # Check the position of each unique number\n",
    "    for i in range(len(grid)):\n",
    "        for j in range(len(grid[i])):\n",
    "            if grid[i][j] == unique_number:\n",
    "                matrix[i][j] = True\n",
    "\n",
    "    return matrix"
   ]
  },
  {
   "cell_type": "code",
   "execution_count": 6,
   "metadata": {},
   "outputs": [],
   "source": [
    "#Check if the matrix of the species is connected from top to bottom\n",
    "def is_connected_top_to_bottom(matrix):\n",
    "    \n",
    "    rows = len(matrix)\n",
    "    cols = len(matrix[0])\n",
    "\n",
    "    visited = [[False] * cols for _ in range(rows)]\n",
    "\n",
    "    def dfs(row, col):\n",
    "        if row < 0 or row >= rows or col < 0 or col >= cols:\n",
    "            return False\n",
    "\n",
    "        if not visited[row][col] and matrix[row][col]:\n",
    "            visited[row][col] = True\n",
    "\n",
    "            if row == rows - 1:  # Reached the bottom row\n",
    "                return True\n",
    "\n",
    "            return (\n",
    "                dfs(row - 1, col) or  # Check top neighbor\n",
    "                dfs(row + 1, col) or  # Check bottom neighbor\n",
    "                dfs(row, col - 1) or  # Check left neighbor\n",
    "                dfs(row, col + 1) or  # Check right neighbor\n",
    "                dfs(row - 1, col - 1) or  # Diagonal neighbors\n",
    "                dfs(row - 1, col + 1) or\n",
    "                dfs(row + 1, col - 1) or\n",
    "                dfs(row + 1, col + 1))\n",
    "\n",
    "        return False\n",
    "\n",
    "    # Iterate over the top row and initiate DFS for each True value\n",
    "    for col in range(cols):\n",
    "        if matrix[0][col] and dfs(0, col):\n",
    "            return True\n",
    "\n",
    "    return False\n"
   ]
  },
  {
   "cell_type": "code",
   "execution_count": 7,
   "metadata": {},
   "outputs": [],
   "source": [
    "#Check if the matrix of the species is connected from left to rigth\n",
    "def is_connected_left_to_right(matrix):\n",
    "\n",
    "    rows = len(matrix)\n",
    "    cols = len(matrix[0])\n",
    "\n",
    "    visited = [[False] * cols for _ in range(rows)]\n",
    "\n",
    "    def dfs(row, col):\n",
    "        if row < 0 or row >= rows or col < 0 or col >= cols:\n",
    "            return False\n",
    "\n",
    "        if not visited[row][col] and matrix[row][col]:\n",
    "            visited[row][col] = True\n",
    "\n",
    "            if col == cols - 1:  # Reached the rightmost column\n",
    "                return True\n",
    "\n",
    "            return (\n",
    "                dfs(row - 1, col) or  # Check top neighbor\n",
    "                dfs(row + 1, col) or  # Check bottom neighbor\n",
    "                dfs(row, col + 1) or  # Check right neighbor\n",
    "                dfs(row, col - 1) or  # Check left neighbor\n",
    "                dfs(row - 1, col - 1) or  # Diagonal neighbors\n",
    "                dfs(row - 1, col + 1) or\n",
    "                dfs(row + 1, col - 1) or\n",
    "                dfs(row + 1, col + 1))\n",
    "\n",
    "        return False\n",
    "\n",
    "    # Iterate over the leftmost column and initiate DFS for each True value\n",
    "    for row in range(rows):\n",
    "        if matrix[row][0] and dfs(row, 0):\n",
    "            return True\n",
    "\n",
    "    return False"
   ]
  },
  {
   "cell_type": "code",
   "execution_count": 28,
   "metadata": {},
   "outputs": [],
   "source": [
    "def has_percolation(grid: list[int]):\n",
    "      \n",
    "    species_dict={}\n",
    "    \n",
    "    unique_species = count_different_species(grid)\n",
    "    \n",
    "    for species in unique_species:\n",
    "        matrix = check_element_positions(grid, species)\n",
    "        species_dict[species] = is_connected_left_to_right(matrix) or is_connected_top_to_bottom(matrix)\n",
    "\n",
    "    return species_dict    "
   ]
  },
  {
   "attachments": {},
   "cell_type": "markdown",
   "metadata": {},
   "source": [
    "## Example"
   ]
  },
  {
   "cell_type": "code",
   "execution_count": 32,
   "metadata": {},
   "outputs": [
    {
     "name": "stdout",
     "output_type": "stream",
     "text": [
      "{0: False, 1: True, 2: True, 3: True, 3.2: False}\n"
     ]
    }
   ],
   "source": [
    "grid = [\n",
    "    [1, 1, 1, 2, 2, 1, 1, 0, 2, 3, 2, 2, 0, 1, 1, 0, 2, 3, 1, 2, 0, 2, 3, 1, 0, 3, 1, 0, 3, 2, 1, 0, 1, 0, 2, 3, 1, 0, 1, 3, 2, 3, 0, 2, 1, 3],\n",
    "    [1, 2, 2, 1, 0, 0, 2, 3, 1, 2, 2, 1, 2, 1, 3, 0, 3, 2, 1, 3, 2, 2, 1, 0, 0, 1, 2, 3, 1, 0, 1, 2, 2, 0, 3, 1, 1, 2, 0, 3, 0, 2, 1, 3, 0, 1],\n",
    "    [1, 2, 0, 2, 1, 3, 1, 0, 1, 2, 2, 1, 0, 1, 2, 3, 1, 0, 2, 3, 2, 0, 1, 3, 2, 1, 0, 0, 3, 2, 2, 1, 2, 0, 3, 1, 1, 2, 0, 3, 0, 2, 1, 3, 0, 1],\n",
    "    [1, 0, 1, 2, 2, 1, 1, 0, 2, 3, 2, 2, 0, 1, 1, 0, 2, 3, 1, 2, 0, 2, 3, 1, 0, 3, 1, 0, 3, 2, 1, 0, 1, 0, 2, 3, 1, 0, 1, 3, 2, 3, 0, 2, 3, 3],\n",
    "    [1, 2, 2, 1, 0, 0, 2, 3, 1, 2, 2, 1, 2, 1, 3, 0, 3, 2, 1, 3, 2, 2, 1, 0, 0, 1, 2, 3, 1, 0, 1, 2, 2, 0, 3, 1, 1, 2, 1, 3, 0, 2, 1, 3, 0, 1],\n",
    "    [1, 2, 0, 2, 1, 3, 1, 0, 1, 2, 2, 1, 0, 1, 2, 3, 1, 0, 2, 3, 2, 0, 1, 3, 2, 1, 0, 0, 3, 2, 2, 1, 3, 0, 2, 1, 0, 1, 2, 0, 3, 2, 1, 1, 0, 2],\n",
    "    [1, 1, 3, 2, 1, 0, 0, 2, 1, 2, 3, 1, 3, 2, 0, 1, 0, 2, 3, 1, 2, 0, 1, 2, 0, 3, 2, 1, 0, 3, 1, 0, 2, 3, 1, 0, 2, 3, 1, 0, 2, 3, 1, 2, 0, 1],\n",
    "    [1, 3, 1, 0, 0, 1, 2, 3, 2, 1, 0, 3, 2, 1, 0, 1, 2, 0, 3, 1, 0, 2, 3, 1, 1, 0, 3, 0, 1, 2, 3, 1, 2, 0, 1, 0, 2, 3, 1, 0, 3, 1, 2, 2, 1, 0],\n",
    "    [1, 2, 2, 1, 0, 0, 2, 3, 1, 2, 2, 1, 2, 1, 3, 0, 3, 2, 1, 3, 2, 2, 1, 0, 0, 1, 2, 3, 1, 0, 1, 2, 2, 0, 3, 1, 1, 2, 0, 3, 0, 2, 1, 3, 0, 1],\n",
    "    [1, 2, 0, 2, 1, 3, 1, 0, 1, 2, 2, 1, 0, 1, 2, 3, 1, 0, 2, 3, 2, 0, 1, 3, 2, 1, 0, 0, 3, 2, 2, 1, 3, 0, 2, 1, 0, 1, 2, 0, 3, 2, 1, 1, 0, 2],\n",
    "    [1, 1, 3, 2, 1, 0, 0, 2, 1, 2, 3, 1, 3, 2, 0, 1, 0, 2, 3, 1, 2, 0, 1, 2, 0, 3, 2, 1, 0, 3, 1, 0, 2, 3, 1, 0, 2, 3, 1, 0, 2, 3, 1, 2, 0, 1],\n",
    "    [1, 3, 1, 0, 0, 1, 2, 3, 2, 1, 0, 3, 2, 1, 0, 1, 2, 0, 3, 1, 0, 2, 3, 1, 1, 0, 3, 0, 1, 2, 3, 1, 2, 0, 1, 0, 2, 3, 1, 0, 3, 1, 2, 2, 1, 0],\n",
    "    [1, 2, 0, 2, 1, 3, 1, 0, 1, 2, 2, 1, 0, 1, 2, 3, 1, 0, 2, 3, 2, 0, 1, 3, 2, 1, 0, 0, 3, 2, 2, 1, 2, 0, 3, 1, 1, 2, 0, 3, 0, 2, 1, 3, 0, 1],\n",
    "    [1, 0, 1, 2, 2, 1, 1, 0, 2, 3, 2, 2, 0, 1, 1, 0, 2, 3, 1, 2, 0, 2, 3, 1, 0, 3, 1, 0, 3, 2, 1, 0, 1, 0, 2, 3, 1, 0, 1, 3, 2, 3, 0, 2, 3, 3],\n",
    "    [1, 2, 2, 1, 0, 0, 2, 3, 1, 2, 2, 1, 2, 1, 3, 0, 3, 2, 1, 3, 2, 2, 1, 0, 0, 1, 2, 3, 1, 0, 1, 2, 2, 0, 3, 1, 1, 2, 0, 3, 0, 2, 1, 3, 0, 1],\n",
    "    [1, 2, 0, 2, 1, 3, 1, 0, 1, 2, 2, 1, 0, 1, 2, 3, 1, 0, 2, 3, 2, 0, 1, 3, 2, 1, 0, 0, 3, 2, 2, 1, 3, 0, 2, 1, 0, 1, 2, 0, 3, 2, 1, 1, 0, 2],\n",
    "    [1, 1, 3, 2, 1, 0, 0, 2, 1, 2, 3, 1, 3, 2, 0, 1, 0, 2, 3, 1, 2, 0, 1, 2, 0, 3, 2, 1, 0, 3, 1, 0, 2, 3, 1, 0, 2, 3, 1, 0, 2, 3, 1, 2, 0, 1],\n",
    "    [1, 3, 1, 0, 0, 1, 2, 3, 2, 1, 0, 3, 2, 1, 0, 1, 2, 0, 3, 1, 0, 2, 3, 1, 1, 0, 3, 0, 1, 2, 3, 1, 2, 0, 1, 0, 2, 3, 1, 0, 3, 1, 2, 2, 1, 0],\n",
    "    [1, 2, 2, 1, 0, 0, 2, 3, 1, 2, 2, 1, 2, 1, 3, 0, 3, 2, 1, 3, 2, 2, 1, 0, 0, 1, 2, 3, 1, 0, 1, 2, 2, 0, 3, 1, 1, 2, 0, 3, 0, 2, 1, 3, 0, 1],\n",
    "    [1, 2, 0, 2, 1, 3, 1, 0, 1, 2, 2, 1, 0, 1, 2, 3, 1, 0, 2, 3, 2, 0, 1, 3, 2, 1, 0, 0, 3, 2, 2, 1, 3, 0, 2, 1, 0, 1, 2, 0, 3, 2, 1, 1, 0, 2],\n",
    "    [1, 1, 3, 2, 1, 0, 0, 2, 1, 2, 3, 1, 3, 2, 0, 1, 0, 2, 3, 1, 2, 0, 1, 2, 0, 3, 2, 1, 0, 3, 1, 0, 2, 3, 1, 0, 2, 3, 1, 0, 2, 3, 1, 2, 0, 1],\n",
    "    [1, 3, 1, 0, 0, 1, 2, 3, 2, 1, 0, 3, 2, 1, 0, 1, 2, 0, 3, 1, 0, 2, 3, 1, 1, 0, 3, 0, 1, 2, 3, 1, 2, 0, 1, 0, 2, 3, 1, 0, 3, 1, 2, 2, 1, 0],\n",
    "    [1, 2, 0, 2, 1, 3, 1, 0, 1, 2, 2, 1, 0, 1, 2, 3, 1, 0, 2, 3, 2, 0, 1, 3, 2, 1, 0, 0, 3, 2, 2, 1, 2, 0, 3, 1, 1, 2, 0, 3, 0, 2, 1, 3, 0, 1],\n",
    "    [1, 0, 1, 2, 2, 1, 1, 0, 2, 3, 2, 2, 0, 1, 1, 0, 2, 3, 1, 2, 0, 2, 3, 1, 0, 3, 1, 0, 3, 2, 1, 0, 1, 0, 2, 3, 1, 0, 1, 3, 2, 3, 0, 2, 3, 3],\n",
    "    [1, 2, 2, 1, 0, 0, 2, 3, 1, 2, 2, 1, 2, 1, 3, 0, 3, 2, 1, 3, 2, 2, 1, 0, 0, 1, 2, 3, 1, 0, 1, 2, 2, 0, 3, 1, 1, 2, 0, 3, 0, 2, 1, 3, 0, 1],\n",
    "    [1, 2, 0, 2, 1, 3, 1, 0, 1, 2, 2, 1, 0, 1, 2, 3, 1, 0, 2, 3, 2, 0, 1, 3, 2, 1, 0, 0, 3, 2, 2, 1, 3, 0, 2, 1, 0, 1, 2, 0, 3, 2, 1, 1, 0, 2],\n",
    "    [1, 1, 3, 2, 1, 0, 0, 2, 1, 2, 3, 1, 3, 2, 0, 1, 0, 2, 3, 1, 2, 0, 1, 2, 0, 3, 2, 1, 0, 3, 1, 0, 2, 3, 1, 0, 2, 3, 1, 0, 2, 3, 1, 2, 0, 1],\n",
    "    [1, 3, 1, 0, 0, 1, 2, 3, 2, 1, 0, 3, 2, 1, 0, 1, 2, 0, 3, 1, 0, 2, 3, 1, 1, 0, 3, 0, 1, 2, 3, 1, 2, 0, 1, 0, 2, 3, 1, 0, 3, 1, 2, 2, 1, 0],\n",
    "    [1, 2, 2, 1, 0, 0, 2, 3, 1, 2, 2, 1, 2, 1, 3, 0, 3, 2, 1, 3, 2, 2, 1, 0, 0, 1, 2, 3, 1, 0, 1, 2, 2, 0, 3, 1, 1, 2, 0, 3, 0, 2, 1, 3, 0, 1],\n",
    "    [1, 2, 0, 2, 1, 3, 1, 0, 1, 2, 2, 1, 0, 1, 2, 3, 1, 0, 2, 3, 2, 0, 1, 3, 2, 1, 0, 0, 3, 2, 2, 1, 3, 0, 2, 1, 0, 1, 2, 0, 3, 2, 1, 1, 0, 2],\n",
    "    [0, 1, 3, 2, 1, 0, 0, 2, 1, 2, 3, 1, 3, 2, 0, 1, 0, 2, 3, 1, 2, 0, 1, 2, 0, 3, 2, 1, 0, 3, 1, 0, 2, 3, 1, 0, 2, 3, 1, 0, 2, 3, 1, 2, 0, 1],\n",
    "    [1, 3.2, 1, 0, 0, 1, 2, 3, 2, 1, 0, 3, 2, 1, 0, 1, 2, 0, 3, 1, 0, 2, 3, 1, 1, 0, 3, 0, 1, 2, 3, 1, 2, 0, 1, 0, 2, 3, 1, 0, 3, 1, 2, 2, 1, 0],\n",
    "]\n",
    "print(has_percolation(grid))"
   ]
  },
  {
   "cell_type": "code",
   "execution_count": 10,
   "metadata": {},
   "outputs": [
    {
     "data": {
      "image/png": "[encoded data removed]",
      "text/plain": [
       "<Figure size 640x480 with 1 Axes>"
      ]
     },
     "metadata": {},
     "output_type": "display_data"
    }
   ],
   "source": [
    "# Example matrix with True/False values\n",
    "matrix = check_element_positions(grid, 0)\n",
    "\n",
    "# Create a grid plot\n",
    "plt.imshow(matrix, cmap='binary')\n",
    "plt.show()\n"
   ]
  }
 ],
 "metadata": {
  "kernelspec": {
   "display_name": "Python 3",
   "language": "python",
   "name": "python3"
  },
  "language_info": {
   "codemirror_mode": {
    "name": "ipython",
    "version": 3
   },
   "file_extension": ".py",
   "mimetype": "text/x-python",
   "name": "python",
   "nbconvert_exporter": "python",
   "pygments_lexer": "ipython3",
   "version": "3.11.3"
  },
  "orig_nbformat": 4
 },
 "nbformat": 4,
 "nbformat_minor": 2
}
