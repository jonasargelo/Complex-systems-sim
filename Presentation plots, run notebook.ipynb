{
 "cells": [
  {
   "cell_type": "code",
   "execution_count": 66,
   "metadata": {},
   "outputs": [],
   "source": [
    "import numpy as np\n",
    "import matplotlib.pyplot as plt\n",
    "import matplotlib as mpl\n",
    "import pickle\n",
    "import powerlaw\n",
    "\n",
    "%run backwards_time_voter_model.ipynb"
   ]
  },
  {
   "cell_type": "code",
   "execution_count": 67,
   "metadata": {},
   "outputs": [],
   "source": [
    "# pip install powerlaw"
   ]
  },
  {
   "cell_type": "code",
   "execution_count": 68,
   "metadata": {},
   "outputs": [],
   "source": [
    "# Define parameters as in paper\n",
    "alpha = 3e-4\n",
    "L = 500"
   ]
  },
  {
   "cell_type": "code",
   "execution_count": null,
   "metadata": {},
   "outputs": [
    {
     "name": "stderr",
     "output_type": "stream",
     "text": [
      "100%|██████████████████████████████████| 250000/250000 [07:45<00:00, 537.03it/s]\n",
      " 60%|███████████████████▉             | 150732/250000 [00:39<00:25, 3823.49it/s]\n",
      "100%|██████████████████████████████████| 250000/250000 [06:58<00:00, 596.98it/s]\n",
      " 62%|████████████████████▍            | 154386/250000 [00:35<00:22, 4338.29it/s]\n",
      "100%|██████████████████████████████████| 250000/250000 [08:51<00:00, 470.55it/s]\n",
      " 65%|█████████████████████▎           | 161714/250000 [00:33<00:18, 4873.06it/s]\n",
      "100%|██████████████████████████████████| 250000/250000 [07:05<00:00, 587.64it/s]\n",
      " 59%|███████████████████▍             | 147467/250000 [00:34<00:23, 4283.10it/s]\n",
      "100%|██████████████████████████████████| 250000/250000 [08:14<00:00, 506.02it/s]\n",
      " 62%|████████████████████▍            | 154536/250000 [00:35<00:22, 4311.10it/s]\n",
      "100%|██████████████████████████████████| 250000/250000 [07:02<00:00, 591.95it/s]\n",
      " 60%|███████████████████▉             | 151168/250000 [00:34<00:22, 4362.64it/s]\n",
      "100%|██████████████████████████████████| 250000/250000 [21:52<00:00, 190.52it/s]\n",
      " 63%|████████████████████▊            | 157955/250000 [00:36<00:21, 4350.95it/s]\n",
      "100%|██████████████████████████████████| 250000/250000 [08:21<00:00, 498.45it/s]\n",
      " 61%|████████████████████▏            | 152772/250000 [00:35<00:22, 4314.71it/s]\n",
      " 75%|█████████████████████████▋        | 188581/250000 [07:53<01:57, 524.83it/s]"
     ]
    }
   ],
   "source": [
    "for i in range(10, 21):\n",
    "    species = voter_model_fast(L, alpha, kernel='nearest', W=20, eta=-1)\n",
    "    pickle.dump(species, open(f\"{L}x{L},alpha={alpha},kernel=nearest.p_{i}\", \"wb\" ))"
   ]
  },
  {
   "cell_type": "code",
   "execution_count": null,
   "metadata": {},
   "outputs": [],
   "source": []
  }
 ],
 "metadata": {
  "kernelspec": {
   "display_name": "Python 3 (ipykernel)",
   "language": "python",
   "name": "python3"
  },
  "language_info": {
   "codemirror_mode": {
    "name": "ipython",
    "version": 3
   },
   "file_extension": ".py",
   "mimetype": "text/x-python",
   "name": "python",
   "nbconvert_exporter": "python",
   "pygments_lexer": "ipython3",
   "version": "3.10.6"
  }
 },
 "nbformat": 4,
 "nbformat_minor": 2
}
