{
 "cells": [
  {
   "cell_type": "code",
   "execution_count": 8,
   "metadata": {},
   "outputs": [],
   "source": [
    "import numpy as np\n",
    "import matplotlib.pyplot as plt\n",
    "import matplotlib as mpl\n",
    "import pickle\n",
    "import powerlaw\n",
    "\n",
    "%run backwards_time_voter_model.ipynb"
   ]
  },
  {
   "cell_type": "code",
   "execution_count": 9,
   "metadata": {},
   "outputs": [],
   "source": [
    "# Define parameters as in paper\n",
    "alpha = 3e-3\n",
    "L = 300\n",
    "W = 16"
   ]
  },
  {
   "cell_type": "code",
   "execution_count": 10,
   "metadata": {},
   "outputs": [
    {
     "name": "stderr",
     "output_type": "stream",
     "text": [
      "100%|████████████████████████████████████| 90000/90000 [04:44<00:00, 315.92it/s]\n",
      "  0%|                                      | 179/90000 [00:01<13:13, 113.14it/s]\n",
      "100%|████████████████████████████████████| 90000/90000 [04:05<00:00, 366.08it/s]\n",
      "  0%|                                      | 232/90000 [00:01<06:52, 217.63it/s]\n",
      "100%|████████████████████████████████████| 90000/90000 [04:06<00:00, 365.44it/s]\n",
      "  0%|                                      | 292/90000 [00:01<07:17, 205.20it/s]\n",
      "100%|████████████████████████████████████| 90000/90000 [04:10<00:00, 358.80it/s]\n",
      "  0%|                                      | 141/90000 [00:00<07:05, 211.25it/s]\n",
      "100%|████████████████████████████████████| 90000/90000 [04:05<00:00, 366.17it/s]\n",
      "  0%|                                      | 214/90000 [00:00<06:51, 218.22it/s]\n",
      "100%|████████████████████████████████████| 90000/90000 [04:09<00:00, 361.37it/s]\n",
      "  0%|▏                                     | 345/90000 [00:01<05:08, 290.56it/s]\n"
     ]
    }
   ],
   "source": [
    "etas = [-3.6, -7.2, -10.8]\n",
    "for i in range(2, 4):\n",
    "    for eta in etas:\n",
    "        species = voter_model_fast(L, alpha, kernel='fat tail', W=16, eta=eta)\n",
    "        pickle.dump(species, open(f\"Varying eta runs/{L}x{L},alpha={alpha},kernel=fat_tail,eta={eta},W={W}.p_{i}\", \"wb\" ))"
   ]
  },
  {
   "cell_type": "code",
   "execution_count": null,
   "metadata": {},
   "outputs": [],
   "source": []
  },
  {
   "cell_type": "code",
   "execution_count": null,
   "metadata": {},
   "outputs": [],
   "source": []
  }
 ],
 "metadata": {
  "kernelspec": {
   "display_name": "Python 3 (ipykernel)",
   "language": "python",
   "name": "python3"
  },
  "language_info": {
   "codemirror_mode": {
    "name": "ipython",
    "version": 3
   },
   "file_extension": ".py",
   "mimetype": "text/x-python",
   "name": "python",
   "nbconvert_exporter": "python",
   "pygments_lexer": "ipython3",
   "version": "3.10.6"
  }
 },
 "nbformat": 4,
 "nbformat_minor": 2
}
