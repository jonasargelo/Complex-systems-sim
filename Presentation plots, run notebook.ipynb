{
 "cells": [
  {
   "cell_type": "code",
   "execution_count": 11,
   "metadata": {},
   "outputs": [],
   "source": [
    "import numpy as np\n",
    "import matplotlib.pyplot as plt\n",
    "import matplotlib as mpl\n",
    "import pickle\n",
    "import powerlaw\n",
    "\n",
    "%run backwards_time_voter_model.ipynb"
   ]
  },
  {
   "cell_type": "code",
   "execution_count": 12,
   "metadata": {},
   "outputs": [],
   "source": [
    "# Define parameters as in paper\n",
    "alpha = 3e-3\n",
    "L = 300\n",
    "W = 16"
   ]
  },
  {
   "cell_type": "code",
   "execution_count": 13,
   "metadata": {},
   "outputs": [
    {
     "name": "stderr",
     "output_type": "stream",
     "text": [
      "100%|████████████████████████████████████| 90000/90000 [04:20<00:00, 344.93it/s]\n",
      "  0%|                                       | 149/90000 [00:01<16:36, 90.16it/s]\n",
      "100%|████████████████████████████████████| 90000/90000 [04:48<00:00, 312.40it/s]\n",
      "  0%|                                      | 250/90000 [00:02<13:33, 110.36it/s]\n",
      "100%|████████████████████████████████████| 90000/90000 [04:50<00:00, 310.04it/s]\n",
      "  1%|▏                                     | 452/90000 [00:02<07:14, 206.09it/s]\n",
      "100%|████████████████████████████████████| 90000/90000 [04:38<00:00, 323.50it/s]\n",
      "  0%|                                      | 157/90000 [00:00<07:14, 206.98it/s]\n",
      "100%|████████████████████████████████████| 90000/90000 [04:18<00:00, 347.99it/s]\n",
      "  0%|                                      | 224/90000 [00:01<09:39, 154.81it/s]\n",
      "100%|████████████████████████████████████| 90000/90000 [04:20<00:00, 345.55it/s]\n",
      "  0%|▏                                     | 327/90000 [00:01<05:11, 287.66it/s]\n",
      "100%|████████████████████████████████████| 90000/90000 [04:22<00:00, 343.47it/s]\n",
      "  0%|                                       | 146/90000 [00:01<15:33, 96.22it/s]\n",
      "100%|████████████████████████████████████| 90000/90000 [04:19<00:00, 346.37it/s]\n",
      "  0%|                                      | 251/90000 [00:01<10:43, 139.48it/s]\n",
      "100%|█████████████████████████████████████| 90000/90000 [48:44<00:00, 30.77it/s]\n",
      "  0%|▏                                     | 366/90000 [00:01<06:33, 227.50it/s]\n"
     ]
    }
   ],
   "source": [
    "etas = [-3.6, -7.2, -10.8]\n",
    "for i in range(4, 7):\n",
    "    for eta in etas:\n",
    "        species = voter_model_fast(L, alpha, kernel='fat tail', W=16, eta=eta)\n",
    "        pickle.dump(species, open(f\"Varying eta runs/{L}x{L},alpha={alpha},kernel=fat_tail,eta={eta},W={W}.p_{i}\", \"wb\" ))"
   ]
  },
  {
   "cell_type": "code",
   "execution_count": null,
   "metadata": {},
   "outputs": [],
   "source": []
  },
  {
   "cell_type": "code",
   "execution_count": null,
   "metadata": {},
   "outputs": [],
   "source": []
  }
 ],
 "metadata": {
  "kernelspec": {
   "display_name": "Python 3 (ipykernel)",
   "language": "python",
   "name": "python3"
  },
  "language_info": {
   "codemirror_mode": {
    "name": "ipython",
    "version": 3
   },
   "file_extension": ".py",
   "mimetype": "text/x-python",
   "name": "python",
   "nbconvert_exporter": "python",
   "pygments_lexer": "ipython3",
   "version": "3.10.6"
  }
 },
 "nbformat": 4,
 "nbformat_minor": 2
}
