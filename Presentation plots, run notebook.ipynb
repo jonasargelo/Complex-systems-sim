{
 "cells": [
  {
   "cell_type": "code",
   "execution_count": 78,
   "metadata": {},
   "outputs": [],
   "source": [
    "import numpy as np\n",
    "import matplotlib.pyplot as plt\n",
    "import matplotlib as mpl\n",
    "import pickle\n",
    "import powerlaw\n",
    "\n",
    "%run backwards_time_voter_model.ipynb"
   ]
  },
  {
   "cell_type": "code",
   "execution_count": 79,
   "metadata": {},
   "outputs": [],
   "source": [
    "# Define parameters as in paper\n",
    "alpha = 3e-4\n",
    "L = 500"
   ]
  },
  {
   "cell_type": "code",
   "execution_count": 81,
   "metadata": {},
   "outputs": [
    {
     "name": "stderr",
     "output_type": "stream",
     "text": [
      "100%|███████████████████████████████████| 250000/250000 [42:16<00:00, 98.56it/s]\n",
      "  0%|                                    | 108/250000 [00:04<3:11:35, 21.74it/s]\n",
      "100%|███████████████████████████████████| 250000/250000 [42:46<00:00, 97.41it/s]\n",
      "  0%|                                    | 485/250000 [00:25<3:39:12, 18.97it/s]\n",
      "100%|███████████████████████████████████| 250000/250000 [42:21<00:00, 98.37it/s]\n",
      "  0%|                                    | 295/250000 [00:18<4:25:23, 15.68it/s]\n",
      "100%|███████████████████████████████████| 250000/250000 [45:32<00:00, 91.48it/s]\n",
      "  0%|                                   | 127/250000 [00:18<10:09:08,  6.84it/s]\n",
      "100%|███████████████████████████████████| 250000/250000 [44:44<00:00, 93.13it/s]\n",
      "  0%|                                    | 277/250000 [00:19<4:55:25, 14.09it/s]\n",
      "100%|███████████████████████████████████| 250000/250000 [45:10<00:00, 92.24it/s]\n",
      "  0%|                                    | 326/250000 [00:17<3:42:54, 18.67it/s]\n"
     ]
    }
   ],
   "source": [
    "etas = [-3.6, -7.2, -10.8]\n",
    "for i in range(1, 3):\n",
    "    for eta in etas:\n",
    "        species = voter_model_fast(L, alpha, kernel='fat tail', W=32, eta=eta)\n",
    "        pickle.dump(species, open(f\"{L}x{L},alpha={alpha},kernel=fat_tail,eta={eta}.p_{i}\", \"wb\" ))"
   ]
  },
  {
   "cell_type": "code",
   "execution_count": null,
   "metadata": {},
   "outputs": [],
   "source": []
  }
 ],
 "metadata": {
  "kernelspec": {
   "display_name": "Python 3 (ipykernel)",
   "language": "python",
   "name": "python3"
  },
  "language_info": {
   "codemirror_mode": {
    "name": "ipython",
    "version": 3
   },
   "file_extension": ".py",
   "mimetype": "text/x-python",
   "name": "python",
   "nbconvert_exporter": "python",
   "pygments_lexer": "ipython3",
   "version": "3.10.6"
  }
 },
 "nbformat": 4,
 "nbformat_minor": 2
}
