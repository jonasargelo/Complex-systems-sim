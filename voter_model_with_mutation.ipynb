{
 "cells": [
  {
   "cell_type": "code",
   "execution_count": 3,
   "id": "6ac8434f",
   "metadata": {},
   "outputs": [],
   "source": [
    "import numpy as np\n",
    "import matplotlib.pyplot as plt\n",
    "import matplotlib as mpl\n",
    "# mpl.rcParams['figure.dpi'] = 300\n",
    "# mpl.rc('font', size=12)\n",
    "\n",
    "from numba import njit"
   ]
  },
  {
   "attachments": {},
   "cell_type": "markdown",
   "id": "75903f8c",
   "metadata": {},
   "source": [
    "# Voter model with mutation"
   ]
  },
  {
   "cell_type": "code",
   "execution_count": 4,
   "id": "8385704a",
   "metadata": {},
   "outputs": [],
   "source": [
    "@njit\n",
    "def init_grid(K):\n",
    "    '''Initialises a K by K grid with numbers drawn randomly from (0, 1)'''\n",
    "    return np.random.rand(K, K)"
   ]
  },
  {
   "cell_type": "code",
   "execution_count": 5,
   "id": "b9a24eba",
   "metadata": {},
   "outputs": [],
   "source": [
    "@njit\n",
    "def get_8_neighbors(i, j, K):\n",
    "    '''Finds all 8 neighbors of a site in a K by K grid'''\n",
    "    neighbors = []\n",
    "    for di in [-1, 0, 1]:\n",
    "        for dj in [-1, 0, 1]:\n",
    "            # Skip the current site\n",
    "            if di == 0 and dj == 0:\n",
    "                continue\n",
    "            # Apply periodic boundary conditions\n",
    "            neighbor_i = int((i + di) % K)  \n",
    "            neighbor_j = int((j + dj) % K)\n",
    "            neighbors.append((neighbor_i, neighbor_j))\n",
    "    return neighbors\n",
    "\n",
    "@njit\n",
    "def get_4_neighbors(i, j, K):\n",
    "    '''Finds upper, lower, left and right neighbor of a site in a K by K grid'''\n",
    "    neighbors = []\n",
    "    # Up, down, right, left\n",
    "    directions = [(0, 1), (0, -1), (1, 0), (-1, 0)]  \n",
    "    for di, dj in directions:\n",
    "        # Apply periodic boundary conditions\n",
    "        neighbor_i = int((i + di) % K)\n",
    "        neighbor_j = int((j + dj) % K)\n",
    "        neighbors.append((neighbor_i, neighbor_j))\n",
    "    return neighbors"
   ]
  },
  {
   "cell_type": "code",
   "execution_count": 6,
   "id": "250f3ba7",
   "metadata": {},
   "outputs": [],
   "source": [
    "import random\n",
    "\n",
    "@njit\n",
    "def voter_model(grid_0, alpha, n_iters):\n",
    "    '''Run experiment with the voter model\n",
    "    Inputs:\n",
    "    grid_0 (numpy array): Initial grid\n",
    "    alpha (float): Value of alpha parameter\n",
    "    n_iters (int): Number of times that the entire grid is updated\n",
    "    \n",
    "    Returns:\n",
    "    cur_grid (numpy array): Grid after n_iter iterations\n",
    "    num_species (list): Contains amount of different species at each tenth iteration\n",
    "    '''\n",
    "    # Create list to store number of unique species\n",
    "    num_species = []\n",
    "    cur_grid = np.copy(grid_0)\n",
    "    \n",
    "    height, width = cur_grid.shape\n",
    "        \n",
    "    # Update grid n_iter times\n",
    "    for i in range(n_iters):\n",
    "        x = np.random.choice(np.arange(0, width))\n",
    "        y = np.random.choice(np.arange(0, height))\n",
    "    \n",
    "        if random.random() < alpha:\n",
    "            cur_grid[x, y] = random.random()\n",
    "        # Set species in cell to that in one of its 4 neighbors with equal probability\n",
    "        else:\n",
    "            neighbors = get_4_neighbors(x, y, L)\n",
    "            neighbor_idx = np.random.choice(len(neighbors))\n",
    "            new_type = cur_grid[neighbors[neighbor_idx]]\n",
    "            cur_grid[x, y] = new_type\n",
    "        # Save amount of species every tenth iteration\n",
    "        if i % (n_iters//100) == 0:\n",
    "            num_species.append(len(np.unique(cur_grid)))\n",
    "    return cur_grid, num_species"
   ]
  },
  {
   "cell_type": "code",
   "execution_count": null,
   "id": "96730f9b",
   "metadata": {},
   "outputs": [],
   "source": []
  }
 ],
 "metadata": {
  "kernelspec": {
   "display_name": "Python 3",
   "language": "python",
   "name": "python3"
  },
  "language_info": {
   "codemirror_mode": {
    "name": "ipython",
    "version": 3
   },
   "file_extension": ".py",
   "mimetype": "text/x-python",
   "name": "python",
   "nbconvert_exporter": "python",
   "pygments_lexer": "ipython3",
   "version": "3.10.2"
  }
 },
 "nbformat": 4,
 "nbformat_minor": 5
}
